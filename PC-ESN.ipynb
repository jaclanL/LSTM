{
 "cells": [
  {
   "cell_type": "markdown",
   "metadata": {},
   "source": [
    "# Principal Components Echo State Networks"
   ]
  },
  {
   "cell_type": "markdown",
   "metadata": {},
   "source": [
    "## Import"
   ]
  },
  {
   "cell_type": "code",
   "execution_count": 4,
   "metadata": {},
   "outputs": [],
   "source": [
    "from numpy import *\n",
    "from matplotlib import pyplot as plt\n",
    "from scipy.sparse import rand as sprand\n",
    "from scipy.sparse import csr_matrix\n",
    "from scipy.sparse.linalg import eigs as speigs\n",
    "from tqdm import trange"
   ]
  },
  {
   "cell_type": "markdown",
   "metadata": {},
   "source": [
    "## Helper functions"
   ]
  },
  {
   "cell_type": "code",
   "execution_count": 8,
   "metadata": {},
   "outputs": [],
   "source": [
    "def normalize_input(inputSequence):\n",
    "    iMu = mean(inputSequence, axis=0)\n",
    "    iMax = amax(abs(inputSequence), axis=0)\n",
    "    normInputSequence = (inputSequence-iMu)/iMax\n",
    "    return normInputSequence"
   ]
  },
  {
   "cell_type": "markdown",
   "metadata": {},
   "source": [
    "## PC-ESN Class"
   ]
  },
  {
   "cell_type": "code",
   "execution_count": 9,
   "metadata": {},
   "outputs": [],
   "source": [
    "class PCESN():\n",
    "    def __init__(self,nInputUnits,nReservoirUnits,nOutputUnits,spectralRadius,sigma2, phi2,eta):\n",
    "        print('Generating PC-ESN...')\n",
    "        # Structure\n",
    "        self.nInputUnits = nInputUnits\n",
    "        self.nReservoirUnits = nReservoirUnits\n",
    "        self.nOutputUnits = nOutputUnits\n",
    "        \n",
    "        # Parameters\n",
    "        self.spectralRadius = spectralRadius # 0<sR<1 to ensure ESP! default 0.4???\n",
    "        self.sigma2 = sigma2 # Variance \n",
    "        self.phi2 = phi2 # High relative to?\n",
    "        self.eta = eta # learning rate, default???\n",
    "        \n",
    "        # Initalize input sum and mean variables\n",
    "        self.inputMean = zeros((nInputUnits,1))\n",
    "        self.inputAbs = 1*ones((nInputUnits,1)) # small enough???\n",
    "        self.t = 0\n",
    "\n",
    "        ## Initialize weights\n",
    "        # H.Jaeger (Sparse reservoir weights)\n",
    "        success = 0                                             \n",
    "        while success == 0: # following block might fail\n",
    "            try:\n",
    "                self.Wres = sprand(nReservoirUnits, nReservoirUnits, density=10/nReservoirUnits)\n",
    "                self.Wres = self.Wres.toarray()\n",
    "                self.Wres[self.Wres!=0] -= 0.5 # modify only nonzero elements\n",
    "                self.Wres = csr_matrix(self.Wres) # back to sparse\n",
    "                maxVal = max(abs(speigs(A=self.Wres, k=1, which='LM')[0]))\n",
    "                self.Wres /= maxVal\n",
    "                success = 1\n",
    "            except:\n",
    "                success = 0   \n",
    "        self.Wres *= self.spectralRadius\n",
    "        \n",
    "        self.Win = eye(nInputUnits)\n",
    "        self.Wself = (2.0*random.rand(nReservoirUnits, nInputUnits)-1.0) # init not mentioned???\n",
    "        self.Wfb = (2.0 * random.rand(nReservoirUnits, nOutputUnits)- 1.0)\n",
    "        self.Wout = zeros((nOutputUnits,nReservoirUnits))\n",
    "        self.Wdir = zeros((nOutputUnits,nInputUnits))\n",
    "        self.Wtrain = hstack((self.Wout,self.Wdir))\n",
    "        \n",
    "        self.r = zeros((nReservoirUnits,1))\n",
    "        self.s = zeros((nInputUnits,1))\n",
    "        self.o = zeros((nOutputUnits,1))\n",
    "        self.c = vstack((self.r, self.s))\n",
    "        #self.Wout = (2.0 * random.rand(nOutputUnits,nReservoirUnits)- 1.0) # init not mentioned???\n",
    "        #self.Wdir = (2.0 * random.rand(nOutputUnits,nInputUnits)- 1.0)\n",
    "        #self.Wtrain = zeros((nOutputUnits, nInputUnits + nReservoirUnits)) - just a combination of [Wout Wdir]\n",
    "\n",
    "        # Initialize covariance matrix\n",
    "        self.V = self.sigma2 * eye(nInputUnits + nReservoirUnits)\n",
    "        \n",
    "        print('Successful!\\n')\n",
    "        \n",
    "    def train(self, inputSample,targetSample):\n",
    "        \"\"\"Training network on inputs with additional help of target values.\n",
    "\n",
    "        Args:\n",
    "            inputSample: numpy array (inputs x 1)\n",
    "            targetSample: numpy array (inputs x 1)\n",
    "        Returns:\n",
    "            Updated parameters (weights and states)\n",
    "\n",
    "        \"\"\"\n",
    "        \n",
    "        # Normalize and center input\n",
    "        self.inputMean = self.inputMean + (inputSample-self.inputMean)/(self.t+1)\n",
    "        inputSample -= self.inputMean\n",
    "        \n",
    "        # Not used in algorithm:\n",
    "        #self.inputAbs = maximum(self.inputAbs, absolute(inputSample))\n",
    "        #inputSample /= self.inputAbs\n",
    "        self.t += 1 # update time index\n",
    "\n",
    "        self.s = tanh(self.Win @ inputSample) # update self-organized layer\n",
    "        self.r = tanh(self.Wres @ self.r + self.Wself @ self.s + self.Wfb @ self.o)\n",
    "        ccurr = self.c\n",
    "        self.c = vstack((self.r, self.s))\n",
    "        self.o = self.Wtrain @ self.c\n",
    "\n",
    "        Vprev = self.V\n",
    "        self.V = linalg.inv(linalg.inv(Vprev) + (1/self.sigma2) * ccurr @ ccurr.T)\n",
    "        a = self.V @ linalg.inv(Vprev) @ self.Wtrain.T\n",
    "        b = 1/self.sigma2 * (self.V @ ccurr) @ targetSample.T\n",
    "        \n",
    "        self.Wtrain = sum([a.T, b.T], axis=0)\n",
    "\n",
    "        # Calculate GHL update \n",
    "        dWin = self.eta*(inputSample@self.s.T - tril(self.s @ self.s.T) @ self.Win)\n",
    "        self.Win += dWin # update Win matrix"
   ]
  },
  {
   "cell_type": "markdown",
   "metadata": {},
   "source": [
    "## Process data"
   ]
  },
  {
   "cell_type": "code",
   "execution_count": 10,
   "metadata": {},
   "outputs": [],
   "source": [
    "nInputs = 21\n",
    "nOutputs = 7\n",
    "split = 0.5\n",
    "\n",
    "data = genfromtxt('Sarcos.csv', delimiter=',')\n",
    "ind = round(split*data.shape[0])\n",
    "\n",
    "uTrain = data[0:ind,0:nInputs,newaxis]\n",
    "yTrain = data[0:ind,nInputs:,newaxis]\n",
    "uTest = data[ind:,0:nInputs,newaxis]\n",
    "yTest = data[ind:,nInputs:,newaxis]\n",
    "\n",
    "# Normalize input\n",
    "uTrain = normalize_input(uTrain)\n",
    "uTest = normalize_input(uTest)\n"
   ]
  },
  {
   "cell_type": "markdown",
   "metadata": {},
   "source": [
    "## Demo"
   ]
  },
  {
   "cell_type": "code",
   "execution_count": 33,
   "metadata": {},
   "outputs": [
    {
     "name": "stdout",
     "output_type": "stream",
     "text": [
      "Generating PC-ESN...\n",
      "Successful!\n",
      "\n"
     ]
    },
    {
     "name": "stderr",
     "output_type": "stream",
     "text": [
      "100%|████████████████████████████████████████████████████████████████████████████████| 500/500 [02:34<00:00,  3.24it/s]\n"
     ]
    }
   ],
   "source": [
    "nInputUnits = 21\n",
    "nReservoirUnits = 600\n",
    "nOutputUnits = 7\n",
    "spectralRadius = 0.4\n",
    "sigma2 = 0.1\n",
    "phi2 = 10\n",
    "eta = 0.01\n",
    "\n",
    "pcesn = PCESN(nInputUnits,nReservoirUnits,nOutputUnits,spectralRadius,sigma2,phi2,eta)\n",
    "\n",
    "data_len = uTrain.shape[0]\n",
    "output = zeros((7,data_len,1))\n",
    "test = []\n",
    "\n",
    "totalSamples = 500\n",
    "\n",
    "for i in trange(totalSamples): # or standard \"range\" to remove progress bar \n",
    "    pcesn.train(uTrain[i,:],yTrain[i,:])\n",
    "    output[:,i] = pcesn.o\n",
    "    test.append(pcesn.o[0])\n",
    "    \n",
    "    "
   ]
  },
  {
   "cell_type": "code",
   "execution_count": 34,
   "metadata": {},
   "outputs": [
    {
     "data": {
      "text/plain": [
       "[<matplotlib.lines.Line2D at 0x2006e35f438>]"
      ]
     },
     "execution_count": 34,
     "metadata": {},
     "output_type": "execute_result"
    },
    {
     "data": {
      "image/png": "[encoded data removed]",
      "text/plain": [
       "<Figure size 432x288 with 1 Axes>"
      ]
     },
     "metadata": {},
     "output_type": "display_data"
    }
   ],
   "source": [
    "plt.plot(test,'b')\n",
    "plt.plot(yTrain[0:499,0],'r')"
   ]
  },
  {
   "cell_type": "markdown",
   "metadata": {},
   "source": [
    "## Useless(?) stuff"
   ]
  },
  {
   "cell_type": "code",
   "execution_count": null,
   "metadata": {},
   "outputs": [],
   "source": [
    "# Init\n",
    "self.noiseLevel = 0.0\n",
    "self.leakingRate = 1\n",
    "self.forgetPoints = 100\n",
    "self.reg = 1e-5 # If ridge regression!!! (something else than 1)\n",
    "\n",
    "self.RLS_lambda = 0.9999995\n",
    "self.RLS_delta = 0.000001\n",
    "\n",
    "self.trained = 0\n",
    "self.pseudo = True\n",
    "\n",
    "# init default\n",
    "self.inputScaling = ones((nInputUnits, 1)) # MAKE SURE INPUT IS NORMALIZED!!!\n",
    "self.inputShift = zeros((nInputUnits, 1))\n",
    "self.teacherScaling = ones((nOutputUnits, 1)) # DOES TEACHER SCALING MAKE ANY DIFFERENCE???\n",
    "self.teacherShift = zeros((nOutputUnits, 1))\n",
    "self.teacherForcing = True # Desired output y_teacher instead of predicted y -> Ridge regression!!!  \n",
    "self.feedbackScaling = zeros((nOutputUnits, 1))\n",
    "\n",
    "self.s = zeros((nInputUnits,1))\n",
    "self.o = zeros((nOutputUnits,1))\n",
    "self.c = vstack((self.r, self.s))"
   ]
  },
  {
   "cell_type": "code",
   "execution_count": null,
   "metadata": {},
   "outputs": [],
   "source": []
  },
  {
   "cell_type": "code",
   "execution_count": null,
   "metadata": {},
   "outputs": [],
   "source": [
    "m = array([[1,0,0],[0,5,6],[7,8,0]])\n",
    "c = array([[1],[2],[3]])\n",
    "k=csr_matrix(m).multiply(csr_matrix(c)).todense()\n",
    "\n",
    "\n",
    "A=array([[1,1,1],[2,2,2],[3,3,3]])\n",
    "\n",
    "print(var(uTrain,axis=0).shape)"
   ]
  },
  {
   "cell_type": "code",
   "execution_count": null,
   "metadata": {},
   "outputs": [],
   "source": []
  }
 ],
 "metadata": {
  "kernelspec": {
   "display_name": "Python 3",
   "language": "python",
   "name": "python3"
  },
  "language_info": {
   "codemirror_mode": {
    "name": "ipython",
    "version": 3
   },
   "file_extension": ".py",
   "mimetype": "text/x-python",
   "name": "python",
   "nbconvert_exporter": "python",
   "pygments_lexer": "ipython3",
   "version": "3.6.6"
  }
 },
 "nbformat": 4,
 "nbformat_minor": 2
}
