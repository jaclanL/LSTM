{
 "cells": [
  {
   "cell_type": "markdown",
   "metadata": {},
   "source": [
    "# Principal Components Echo State Networks"
   ]
  },
  {
   "cell_type": "markdown",
   "metadata": {},
   "source": [
    "## Import"
   ]
  },
  {
   "cell_type": "code",
   "execution_count": 2,
   "metadata": {},
   "outputs": [],
   "source": [
    "from numpy import *\n",
    "from matplotlib import pyplot as plt\n",
    "from scipy.sparse import rand as sprand\n",
    "from scipy.sparse import csr_matrix\n",
    "from scipy.sparse.linalg import eigs as speigs"
   ]
  },
  {
   "cell_type": "markdown",
   "metadata": {},
   "source": [
    "## Helper functions"
   ]
  },
  {
   "cell_type": "code",
   "execution_count": 3,
   "metadata": {},
   "outputs": [],
   "source": [
    "def normalize_input(inputSequence):\n",
    "    iMu = mean(inputSequence, axis=0)\n",
    "    iMax = amax(abs(inputSequence), axis=0)\n",
    "    normInputSequence = (inputSequence-iMu)/iMax\n",
    "    return normInputSequence"
   ]
  },
  {
   "cell_type": "markdown",
   "metadata": {},
   "source": [
    "## PC-ESN Class"
   ]
  },
  {
   "cell_type": "code",
   "execution_count": 4,
   "metadata": {},
   "outputs": [],
   "source": [
    "class PCESN():\n",
    "    def __init__(self,nInputUnits,nReservoirUnits,nOutputUnits,spectralRadius,sigma2, phi2,eta):\n",
    "        print('Creating PC-ESN...')\n",
    "        # Structure\n",
    "        self.nInputUnits = nInputUnits\n",
    "        self.nReservoirUnits = nReservoirUnits\n",
    "        self.nOutputUnits = nOutputUnits\n",
    "        \n",
    "        # Parameters\n",
    "        self.spectralRadius = spectralRadius # 0<sR<1 to ensure ESP! default 0.4???\n",
    "        self.sigma2 = sigma2 # default 0.1???\n",
    "        self.phi2 = phi2 # default 1???\n",
    "        self.eta = eta # learning rate, default???\n",
    "        \n",
    "        # Initalize input sum and mean variables\n",
    "        self.inputMean = 0 \n",
    "        self.inputAbs = 1e-8 # small enough???\n",
    "        self.i = 0\n",
    "\n",
    "        ## Initialize weights\n",
    "        # H.Jaeger (Sparse reservoir weights)\n",
    "        success = 0                                             \n",
    "        while success == 0: # following block might fail\n",
    "            try:\n",
    "                self.Wres = sprand(nReservoirUnits, nReservoirUnits, density=10/nReservoirUnits)\n",
    "                self.Wres = self.Wres.toarray()\n",
    "                self.Wres[self.Wres!=0] -= 0.5 # modify only nonzero elements\n",
    "                self.Wres = csr_matrix(self.Wres) # back to sparse\n",
    "                maxVal = max(abs(speigs(A=self.Wres, k=1, which='LM')[0]))\n",
    "                self.Wres /= maxVal\n",
    "                success = 1\n",
    "            except:\n",
    "                success = 0   \n",
    "        self.Wres *= self.spectralRadius\n",
    "        \n",
    "        self.Win = eye(nInputUnits)\n",
    "        self.Wself = (2.0*random.rand(nReservoirUnits, nInputUnits)-1.0) # init not mentioned???\n",
    "        self.Wfb = (2.0 * random.rand(nReservoirUnits, nOutputUnits)- 1.0)\n",
    "        self.Wout = (2.0 * random.rand(nOutputUnits,nReservoirUnits)- 1.0) # init not mentioned???\n",
    "        self.Wdir = (2.0 * random.rand(nOutputUnits,nInputUnits)- 1.0)\n",
    "        #self.Wtrain = zeros((nOutputUnits, nInputUnits + nReservoirUnits)) - just a combination of [Wout Wdir]\n",
    "        self.r = zeros((nReservoirUnits,1))\n",
    "        self.o = zeros((nOutputUnits,1))\n",
    "\n",
    "        # Initialize covariance matrix\n",
    "        self.V = self.sigma2 * eye(nInputUnits + nReservoirUnits)\n",
    "        \n",
    "        print('Successful!')\n",
    "        \n",
    "    def train(self, inputSample,targetSample):\n",
    "        inputSample = inputSample[:,newaxis]\n",
    "        targetSample = targetSample[:,newaxis]\n",
    "        \n",
    "        # Normalize and center input\n",
    "        self.inputMean = self.inputMean + (inputSample-self.inputMean)/(self.i+1)\n",
    "        inputSample -= self.inputMean\n",
    "        self.inputAbs = maximum(self.inputAbs, absolute(inputSample))\n",
    "        inputSample /= self.inputAbs\n",
    "        self.i += 1 # update index\n",
    "\n",
    "        self.s = tanh(self.Win @ inputSample) # update self-organized layer\n",
    "        #self.s = self.s[:,newaxis]\n",
    "        self.r = tanh(self.Wres @ self.r + self.Wself @ self.s + self.Wfb @ self.o)\n",
    "        self.c = vstack((self.r, self.s))\n",
    "\n",
    "        self.Wtrain = hstack((self.Wout,self.Wdir)) \n",
    "        self.o = self.Wtrain @ self.c\n",
    "\n",
    "        Vprev = self.V\n",
    "        self.V = linalg.inv(linalg.inv(Vprev) + (1/self.sigma2) * self.c @ self.c.T)\n",
    "\n",
    "        a = self.V @ linalg.inv(Vprev) @ self.Wtrain.T\n",
    "        b = 1/self.sigma2 * (self.V @ self.c) @ targetSample.T\n",
    "\n",
    "        self.Wtrain = sum([a.T, b.T], axis=0)\n",
    "\n",
    "        # Calculate GHL update \n",
    "        triang = tril(self.s @ self.s.T)\n",
    "        dWin = self.eta*(self.s@inputSample.T - triang @ self.Win)\n",
    "\n",
    "        self.Win += dWin # update Win matrix"
   ]
  },
  {
   "cell_type": "markdown",
   "metadata": {},
   "source": [
    "## Process data"
   ]
  },
  {
   "cell_type": "code",
   "execution_count": 5,
   "metadata": {},
   "outputs": [],
   "source": [
    "nInputs = 21\n",
    "nOutputs = 7\n",
    "split = 0.5\n",
    "\n",
    "data = genfromtxt('Sarcos.csv', delimiter=',')\n",
    "ind = round(split*data.shape[0])\n",
    "\n",
    "uTrain = data[0:ind,0:nInputs]\n",
    "yTrain = data[0:ind,nInputs:]\n",
    "uTest = data[ind:,0:nInputs]\n",
    "yTest = data[ind:,nInputs:]\n",
    "\n",
    "# Normalize input\n",
    "uTrain = normalize_input(uTrain)\n",
    "uTest = normalize_input(uTest)"
   ]
  },
  {
   "cell_type": "markdown",
   "metadata": {},
   "source": [
    "## Demo"
   ]
  },
  {
   "cell_type": "code",
   "execution_count": 29,
   "metadata": {},
   "outputs": [
    {
     "name": "stdout",
     "output_type": "stream",
     "text": [
      "Creating PC-ESN...\n",
      "Successful!\n"
     ]
    }
   ],
   "source": [
    "nInputUnits = 21\n",
    "nReservoirUnits = 500\n",
    "nOutputUnits = 7\n",
    "spectralRadius = 0.4\n",
    "sigma2 = 0.1\n",
    "phi2 = 1\n",
    "eta = 0.1\n",
    "\n",
    "pcesn = PCESN(nInputUnits,nReservoirUnits,nOutputUnits,spectralRadius,sigma2,phi2,eta)\n",
    "\n",
    "data_len = uTrain.shape[0]\n",
    "output = zeros((7,data_len,1))\n",
    "\n",
    "for iInput in range(1000):\n",
    "    pcesn.train(uTrain[iInput,:],yTrain[iInput,:])\n",
    "    output[:,iInput] = pcesn.o\n",
    "    "
   ]
  },
  {
   "cell_type": "code",
   "execution_count": 31,
   "metadata": {},
   "outputs": [
    {
     "data": {
      "text/plain": [
       "[<matplotlib.lines.Line2D at 0x1ab049eeef0>]"
      ]
     },
     "execution_count": 31,
     "metadata": {},
     "output_type": "execute_result"
    },
    {
     "data": {
      "image/png": "[encoded data removed]",
      "text/plain": [
       "<Figure size 432x288 with 1 Axes>"
      ]
     },
     "metadata": {},
     "output_type": "display_data"
    }
   ],
   "source": [
    "plt.plot(output[0,-100:-1],'b')\n",
    "plt.plot(yTrain[-100:-1,0],'r')"
   ]
  },
  {
   "cell_type": "markdown",
   "metadata": {},
   "source": [
    "## Useless(?) stuff"
   ]
  },
  {
   "cell_type": "code",
   "execution_count": 120,
   "metadata": {},
   "outputs": [
    {
     "ename": "NameError",
     "evalue": "name 'self' is not defined",
     "output_type": "error",
     "traceback": [
      "\u001b[1;31m---------------------------------------------------------------------------\u001b[0m",
      "\u001b[1;31mNameError\u001b[0m                                 Traceback (most recent call last)",
      "\u001b[1;32m<ipython-input-120-3aaae19af21d>\u001b[0m in \u001b[0;36m<module>\u001b[1;34m()\u001b[0m\n\u001b[0;32m      1\u001b[0m \u001b[1;31m# Init\u001b[0m\u001b[1;33m\u001b[0m\u001b[1;33m\u001b[0m\u001b[0m\n\u001b[1;32m----> 2\u001b[1;33m \u001b[0mself\u001b[0m\u001b[1;33m.\u001b[0m\u001b[0mnoiseLevel\u001b[0m \u001b[1;33m=\u001b[0m \u001b[1;36m0.0\u001b[0m\u001b[1;33m\u001b[0m\u001b[0m\n\u001b[0m\u001b[0;32m      3\u001b[0m \u001b[0mself\u001b[0m\u001b[1;33m.\u001b[0m\u001b[0mleakingRate\u001b[0m \u001b[1;33m=\u001b[0m \u001b[1;36m1\u001b[0m\u001b[1;33m\u001b[0m\u001b[0m\n\u001b[0;32m      4\u001b[0m \u001b[0mself\u001b[0m\u001b[1;33m.\u001b[0m\u001b[0mforgetPoints\u001b[0m \u001b[1;33m=\u001b[0m \u001b[1;36m100\u001b[0m\u001b[1;33m\u001b[0m\u001b[0m\n\u001b[0;32m      5\u001b[0m \u001b[0mself\u001b[0m\u001b[1;33m.\u001b[0m\u001b[0mreg\u001b[0m \u001b[1;33m=\u001b[0m \u001b[1;36m1e-5\u001b[0m \u001b[1;31m# If ridge regression!!! (something else than 1)\u001b[0m\u001b[1;33m\u001b[0m\u001b[0m\n",
      "\u001b[1;31mNameError\u001b[0m: name 'self' is not defined"
     ]
    }
   ],
   "source": [
    "# Init\n",
    "self.noiseLevel = 0.0\n",
    "self.leakingRate = 1\n",
    "self.forgetPoints = 100\n",
    "self.reg = 1e-5 # If ridge regression!!! (something else than 1)\n",
    "\n",
    "self.RLS_lambda = 0.9999995\n",
    "self.RLS_delta = 0.000001\n",
    "\n",
    "self.trained = 0\n",
    "self.pseudo = True\n",
    "\n",
    "# init default\n",
    "self.inputScaling = ones((nInputUnits, 1)) # MAKE SURE INPUT IS NORMALIZED!!!\n",
    "self.inputShift = zeros((nInputUnits, 1))\n",
    "self.teacherScaling = ones((nOutputUnits, 1)) # DOES TEACHER SCALING MAKE ANY DIFFERENCE???\n",
    "self.teacherShift = zeros((nOutputUnits, 1))\n",
    "self.teacherForcing = True # Desired output y_teacher instead of predicted y -> Ridge regression!!!  \n",
    "self.feedbackScaling = zeros((nOutputUnits, 1))"
   ]
  },
  {
   "cell_type": "code",
   "execution_count": null,
   "metadata": {},
   "outputs": [],
   "source": []
  },
  {
   "cell_type": "code",
   "execution_count": null,
   "metadata": {},
   "outputs": [],
   "source": []
  }
 ],
 "metadata": {
  "kernelspec": {
   "display_name": "Python 3",
   "language": "python",
   "name": "python3"
  },
  "language_info": {
   "codemirror_mode": {
    "name": "ipython",
    "version": 3
   },
   "file_extension": ".py",
   "mimetype": "text/x-python",
   "name": "python",
   "nbconvert_exporter": "python",
   "pygments_lexer": "ipython3",
   "version": "3.6.6"
  }
 },
 "nbformat": 4,
 "nbformat_minor": 2
}
