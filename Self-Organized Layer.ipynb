{
 "cells": [
  {
   "cell_type": "code",
   "execution_count": 1,
   "metadata": {},
   "outputs": [],
   "source": [
    "# import required packages\n",
    "import numpy as np\n",
    "import matplotlib.pyplot as plt\n",
    "import pandas as pd"
   ]
  },
  {
   "cell_type": "code",
   "execution_count": 142,
   "metadata": {},
   "outputs": [],
   "source": [
    "for i in range(len(u)):\n",
    "    s = Layer.updateOutput(u[i])\n",
    "    Layer.updateWeightMatrix(u[i], s)\n",
    "    "
   ]
  },
  {
   "cell_type": "code",
   "execution_count": 191,
   "metadata": {},
   "outputs": [
    {
     "name": "stdout",
     "output_type": "stream",
     "text": [
      "(2, 21)\n",
      "42345.14047853879\n"
     ]
    }
   ],
   "source": [
    "np.set_printoptions(precision=2)\n",
    "np.set_printoptions(formatter={\"float_kind\": lambda x: \"%g\" % x})\n",
    "\n",
    "k = np.ones(21)[np.newaxis, :]\n",
    "maxx = np.amax(Layer.W, axis=0)[np.newaxis, :]\n",
    "v = np.append(k, maxx, axis=0)\n",
    "print(v.shape)\n",
    "print(np.amax([k, maxx]))"
   ]
  },
  {
   "cell_type": "code",
   "execution_count": 139,
   "metadata": {},
   "outputs": [],
   "source": [
    "class SelfOrganizedLayer:\n",
    "    '''''Self organized layer for Neural Networks using the Generalized Hebbian Learning (GHL) algorithm to update weights. \n",
    "    Functions:\n",
    "        * __init__ : initilizing the network layer, creating a random weight matrix and related variables\n",
    "        * updateOutput: calcualtes the output for a given input vector. The input is centerd within the function\n",
    "        * updateWeightMatrix: updates the weight accoring to the GHL algorithm'''''\n",
    "    \n",
    "    def __init__(self, layer_size, input_size, eta):\n",
    "        '''layer_size - number of neurons\n",
    "        input_size - number of inputs\n",
    "        eta - learning rate'''\n",
    "        \n",
    "        # initalize W with random weights\n",
    "        self.W = np.random.normal(size = (layer_size, input_size)); \n",
    "        \n",
    "        # save learning rate\n",
    "        self.eta = eta\n",
    "        \n",
    "        # initalize t and mean\n",
    "        self.t = 0\n",
    "        self.meanU = 0\n",
    "        self.maxU = ones((1,inpit_size))\n",
    "    \n",
    "    def updateOutput(self, u):\n",
    "        '''u - network input vector'''\n",
    "        \n",
    "        # centering input\n",
    "        # mean value updated each timestep and subtracted from input vector\n",
    "        self.meanU = (self.meanU*self.t + np.mean(u))/(self.t+1);\n",
    "        u -= self.meanU\n",
    "        \n",
    "        #self.Umax = ndarray.max\n",
    "        self.maxU = np.amax(u, axis=0)\n",
    "        \n",
    "        # calculate output\n",
    "        s = np.tanh(np.matmul(self.W, u))\n",
    "        \n",
    "        # update time step\n",
    "        self.t +=1\n",
    "        \n",
    "        return s\n",
    "    \n",
    "    def updateWeightMatrix(self, u, s):\n",
    "        '''u - network input vector\n",
    "        s - network output'''\n",
    "        # transpose\n",
    "        uT = np.transpose(u)\n",
    "        sT = np.transpose(s)\n",
    "        \n",
    "        # calculate GHL update \n",
    "        triang = np.tril(np.matmul(s, sT));\n",
    "        dW = self.eta*(np.matmul(s, uT) - np.matmul(triang, self.W));\n",
    "        \n",
    "        # update W matrix\n",
    "        self.W += dW\n",
    "        "
   ]
  },
  {
   "cell_type": "code",
   "execution_count": 147,
   "metadata": {
    "scrolled": true
   },
   "outputs": [
    {
     "data": {
      "text/plain": [
       "(44484, 21, 1)"
      ]
     },
     "execution_count": 147,
     "metadata": {},
     "output_type": "execute_result"
    }
   ],
   "source": [
    "# load csv data for input and output\n",
    "\n",
    "# 7 columns each for joint angles, angular velocities and angular acceleraions\n",
    "uVec = pd.read_csv(\"Sarcos.csv\", usecols=np.arange(21),  header=None,\n",
    "                  names = ['x1', 'x2', 'x3', 'x4', 'x5', 'x6', 'x7', \n",
    "                           'v1', 'v2', 'v3', 'v4', 'v5', 'v6', 'v7', 'a1', 'a2', 'a3', 'a4', 'a5', 'a6', 'a7'])\n",
    "\n",
    "# 7 columns for joint torques\n",
    "yVec = pd.read_csv(\"Sarcos.csv\", usecols=np.arange(21, 28, 1), header=None, \n",
    "                  names = ['T1', 'T2', 'T3', 'T4', 'T5', 'T6', 'T7'])\n",
    "\n",
    "# to numpy array\n",
    "u = uVec.values[:, :, np.newaxis]\n",
    "y = yVec.values[:, :, np.newaxis]"
   ]
  },
  {
   "cell_type": "code",
   "execution_count": 141,
   "metadata": {},
   "outputs": [],
   "source": [
    "# test self organized layer\n",
    "eta = 0.9\n",
    "layer_size = 21\n",
    "input_size = u.shape[1]\n",
    "\n",
    "Layer = SelfOrganizedLayer(layer_size, input_size, eta)"
   ]
  },
  {
   "cell_type": "code",
   "execution_count": null,
   "metadata": {},
   "outputs": [],
   "source": [
    "\n"
   ]
  },
  {
   "cell_type": "code",
   "execution_count": null,
   "metadata": {},
   "outputs": [],
   "source": [
    "\n"
   ]
  }
 ],
 "metadata": {
  "kernelspec": {
   "display_name": "Python 3",
   "language": "python",
   "name": "python3"
  },
  "language_info": {
   "codemirror_mode": {
    "name": "ipython",
    "version": 3
   },
   "file_extension": ".py",
   "mimetype": "text/x-python",
   "name": "python",
   "nbconvert_exporter": "python",
   "pygments_lexer": "ipython3",
   "version": "3.6.7"
  }
 },
 "nbformat": 4,
 "nbformat_minor": 2
}
