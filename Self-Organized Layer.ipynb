{
 "cells": [
  {
   "cell_type": "code",
   "execution_count": 1,
   "metadata": {},
   "outputs": [],
   "source": [
    "# import required packages\n",
    "import numpy as np\n",
    "import matplotlib.pyplot as plt\n",
    "import pandas as pd"
   ]
  },
  {
   "cell_type": "code",
   "execution_count": 18,
   "metadata": {},
   "outputs": [],
   "source": [
    "# load csv data for input and output\n",
    "\n",
    "# 7 columns each for joint angles, angular velocities and angular acceleraions\n",
    "uVec = pd.read_csv(\"Sarcos.csv\", usecols=np.arange(21),  header=None,\n",
    "                  names = ['x1', 'x2', 'x3', 'x4', 'x5', 'x6', 'x7', \n",
    "                           'v1', 'v2', 'v3', 'v4', 'v5', 'v6', 'v7', 'a1', 'a2', 'a3', 'a4', 'a5', 'a6', 'a7'])\n",
    "# 7 columns for joint torques\n",
    "yVec = pd.read_csv(\"Sarcos.csv\", usecols=np.arange(21, 28, 1), header=None, \n",
    "                  names = ['T1', 'T2', 'T3', 'T4', 'T5', 'T6', 'T7'])\n",
    "\n",
    "# to numpy array\n",
    "u = uVec.values[:, :, np.newaxis]\n",
    "y = yVec.values[:, :, np.newaxis]\n",
    "\n",
    "# generate layer\n",
    "eta = 0.9\n",
    "layer_size = 21\n",
    "input_size = u.shape[1]\n",
    "Layer = SelfOrganizedLayer(layer_size, input_size, eta)"
   ]
  },
  {
   "cell_type": "code",
   "execution_count": 19,
   "metadata": {},
   "outputs": [
    {
     "data": {
      "text/plain": [
       "array([[ 0.96648891],\n",
       "       [ 0.31208504],\n",
       "       [ 0.12659149],\n",
       "       [ 0.06573441],\n",
       "       [ 0.06350969],\n",
       "       [-0.00244234],\n",
       "       [ 0.02902677],\n",
       "       [-0.01370289],\n",
       "       [ 0.0392321 ],\n",
       "       [-0.03443209],\n",
       "       [ 0.03071527],\n",
       "       [ 0.04533702],\n",
       "       [-0.02833523],\n",
       "       [ 0.04425619],\n",
       "       [ 0.03191195],\n",
       "       [ 0.00727233],\n",
       "       [-0.01717282],\n",
       "       [-0.03227183],\n",
       "       [ 0.04422893],\n",
       "       [-0.03018723],\n",
       "       [-0.01583407]])"
      ]
     },
     "execution_count": 19,
     "metadata": {},
     "output_type": "execute_result"
    }
   ],
   "source": [
    "# test layer\n",
    "Layer.layerReset()\n",
    "for i in range(len(u)):\n",
    "    unorm, s = Layer.updateOutput(u[i])\n",
    "    Layer.updateWeightMatrix(unorm, s)\n",
    "\n",
    "s"
   ]
  },
  {
   "cell_type": "code",
   "execution_count": 17,
   "metadata": {},
   "outputs": [
    {
     "name": "stdout",
     "output_type": "stream",
     "text": [
      "[[-4.32443022e-01 -1.31838976e-01  1.14669472e-01  2.41195245e-01\n",
      "   2.99360389e-01 -3.50766260e-01 -9.03282677e-02  2.33654894e-01\n",
      "   4.39574384e-01 -1.56294999e-01 -4.98832543e-01 -5.46375212e-01\n",
      "   2.71644328e-01  4.36961380e-01  1.60498060e-01  2.06196603e-01\n",
      "  -2.27729839e-01 -2.71014394e-01 -2.39015369e-01  3.78878035e-01\n",
      "   4.11765237e-01]\n",
      " [ 2.53736005e-02  9.77854085e-03  6.17246688e-03 -1.29020947e-02\n",
      "  -1.31147517e-02  1.40681055e-02 -2.67294872e-03  5.36411955e-02\n",
      "   1.08141460e-01 -4.72313917e-02 -1.26498259e-01 -1.42981344e-01\n",
      "   7.34373689e-02  1.20505173e-01 -4.60987841e-03  4.36091349e-03\n",
      "  -3.26669117e-02 -2.00942439e-02  3.27476373e-02  7.02099600e-02\n",
      "   5.42816673e-02]\n",
      " [ 6.99359547e-03  5.94007499e-03 -2.11935489e-03 -7.40093869e-03\n",
      "  -9.86915138e-03  2.58683952e-03  6.18087499e-03  2.61596845e-02\n",
      "   4.65173306e-02 -1.90184749e-02 -5.26531833e-02 -6.47024654e-02\n",
      "   2.84211114e-02  4.53089741e-02  4.85512110e-04 -1.64186626e-03\n",
      "  -1.81778809e-03 -3.32795692e-03  1.82300825e-02  2.97487492e-02\n",
      "   1.01705696e-02]\n",
      " [ 6.25304916e-03  2.65601134e-03  8.75213064e-04 -3.59737105e-03\n",
      "  -3.16717201e-03  3.26610891e-03 -9.96925913e-04  1.23470087e-02\n",
      "   2.20074493e-02 -8.33909498e-03 -2.62500148e-02 -2.87153718e-02\n",
      "   1.83079182e-02  2.41168904e-02 -5.05636169e-03 -1.58298753e-04\n",
      "  -6.78996379e-03 -2.47221304e-03  1.15228842e-02  1.53470279e-02\n",
      "   1.29592838e-02]\n",
      " [-4.93406079e-03 -1.84034421e-03  2.12551340e-04  2.78935002e-03\n",
      "   3.98346721e-03 -2.31726533e-03 -7.70189031e-04 -1.18693096e-02\n",
      "  -2.15878748e-02  8.22737684e-03  2.53631579e-02  3.03010984e-02\n",
      "  -1.65857199e-02 -2.46530163e-02  3.17541481e-03  5.34826944e-04\n",
      "   3.56695284e-03  1.88636777e-03 -1.06420366e-02 -1.34629806e-02\n",
      "  -8.48043672e-03]\n",
      " [ 9.11634705e-04  3.00017582e-03 -3.26773844e-04 -3.07452285e-03\n",
      "  -2.50340408e-03  2.83185542e-04  1.88923605e-03  6.78780300e-03\n",
      "   1.22718134e-02 -5.94633936e-03 -1.36711440e-02 -1.44287276e-02\n",
      "   6.45831041e-03  8.57402484e-03  2.14726971e-03 -1.90731801e-03\n",
      "   5.52334487e-06 -3.15371766e-04  5.96654071e-03  1.01952068e-02\n",
      "   1.06757032e-03]\n",
      " [ 5.38369735e-04  1.10157165e-03 -1.16195600e-03 -2.86771559e-04\n",
      "  -4.62831537e-04  3.91488012e-05 -1.23625518e-03  3.28843754e-03\n",
      "   7.34852692e-03 -3.09947247e-03 -9.22856159e-03 -7.22003631e-03\n",
      "   4.91922630e-03  8.64025747e-03 -1.61913348e-03 -1.67863250e-03\n",
      "  -1.19409321e-03  1.35277709e-03  5.01655255e-03  3.92204457e-03\n",
      "   1.73808639e-03]]\n"
     ]
    }
   ],
   "source": [
    "\n",
    "print(Layer.W)"
   ]
  },
  {
   "cell_type": "code",
   "execution_count": 6,
   "metadata": {},
   "outputs": [],
   "source": [
    "class SelfOrganizedLayer:\n",
    "    '''''Self organized layer for Neural Networks using the Generalized Hebbian Learning (GHL) algorithm to update weights. \n",
    "    Functions:\n",
    "        * __init__ : initilizing the network layer, creating a random weight matrix and related variables\n",
    "        * updateOutput: calcualtes the output for a given input vector. The input is centerd within the function\n",
    "        * updateWeightMatrix: updates the weight accoring to the GHL algorithm'''''\n",
    "    \n",
    "    def __init__(self, layer_size, input_size, eta):\n",
    "        '''layer_size - number of neurons\n",
    "        input_size - number of inputs\n",
    "        eta - learning rate'''\n",
    "        \n",
    "        # initalize W with random weights\n",
    "        self.W = np.random.normal(size = (layer_size, input_size))\n",
    "        self.W = self.W/np.sum(self.W)\n",
    "        \n",
    "        # save learning rate\n",
    "        self.eta = eta\n",
    "        \n",
    "        # initalize input sum and mean\n",
    "        self.layerReset()\n",
    "        \n",
    "    def layerReset(self):\n",
    "        self.uMean = 0 \n",
    "        self.uAbs = 0.00001\n",
    "        self.i = 0\n",
    "    \n",
    "    def updateOutput(self, u):\n",
    "        '''u - network input vector'''\n",
    "        \n",
    "        # normalize and center input\n",
    "        self.uMean = self.uMean + (u-self.uMean)/(self.i+1)\n",
    "        uCenter = u - self.uMean\n",
    "        self.uAbs = np.maximum(self.uAbs, np.absolute(uCenter))\n",
    "        uNormCenter = uCenter/self.uAbs\n",
    "        \n",
    "        # update index\n",
    "        self.i += 1\n",
    "        \n",
    "        # calculate output\n",
    "        s = np.tanh(self.W@uNormCenter)\n",
    "        \n",
    "        return (uNormCenter, s)\n",
    "    \n",
    "    def updateWeightMatrix(self, u, s):\n",
    "        '''u - network input vector\n",
    "        s - network output'''\n",
    "        # transpose\n",
    "        uT = np.transpose(u)\n",
    "        sT = np.transpose(s)\n",
    "        \n",
    "        # calculate GHL update \n",
    "        triang = np.tril(s@sT);\n",
    "        dW = self.eta*(s@uT - triang@self.W);\n",
    "        \n",
    "        # update W matrix\n",
    "        self.W += dW\n",
    "        "
   ]
  },
  {
   "cell_type": "code",
   "execution_count": null,
   "metadata": {},
   "outputs": [],
   "source": []
  }
 ],
 "metadata": {
  "kernelspec": {
   "display_name": "Python 3",
   "language": "python",
   "name": "python3"
  },
  "language_info": {
   "codemirror_mode": {
    "name": "ipython",
    "version": 3
   },
   "file_extension": ".py",
   "mimetype": "text/x-python",
   "name": "python",
   "nbconvert_exporter": "python",
   "pygments_lexer": "ipython3",
   "version": "3.6.7"
  }
 },
 "nbformat": 4,
 "nbformat_minor": 2
}
