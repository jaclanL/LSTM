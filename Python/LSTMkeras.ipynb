{
 "cells": [
  {
   "cell_type": "code",
   "execution_count": 1,
   "metadata": {},
   "outputs": [
    {
     "name": "stderr",
     "output_type": "stream",
     "text": [
      "Using TensorFlow backend.\n"
     ]
    },
    {
     "name": "stdout",
     "output_type": "stream",
     "text": [
      "hej\n",
      "shape_y: (44484, 7)\n",
      "ind: 22242\n",
      "x_train size: (22242, 21, 1)\n",
      "y_train size: (22242, 7)\n",
      "x_test size: (22242, 21, 1)\n",
      "y_test size: (22242, 7)\n"
     ]
    }
   ],
   "source": [
    "from __future__ import print_function\n",
    "import keras as keras\n",
    "import pandas as pd\n",
    "import numpy as np\n",
    "from keras.models import Sequential\n",
    "from keras.layers import Dense\n",
    "from keras.models import Model\n",
    "from keras.layers import Input, LSTM, Dense\n",
    "import matplotlib.pyplot as plt\n",
    "\n",
    "print(\"hej\")\n",
    "############ Initialize variables ######\n",
    "nInputs = 21\n",
    "nOutputs = 7\n",
    "\n",
    "#data = np.genfromtxt('Sarcos_csv.csv', delimiter=',')\n",
    "\n",
    "hidden_layers = 256\n",
    "batch_size = 64  # Batch size for training.\n",
    "epochs = 100  # Number of epochs to train for.\n",
    "\n",
    "############ Loading data ############## \n",
    "# load csv data for input and output\n",
    "\n",
    "# 7 columns each for joint angles, angular velocities and angular acceleraions\n",
    "uVec = pd.read_csv(\"Sarcos_csv.csv\", usecols=np.arange(21),  header=None,\n",
    "                  names = ['x1', 'x2', 'x3', 'x4', 'x5', 'x6', 'x7', \n",
    "                           'v1', 'v2', 'v3', 'v4', 'v5', 'v6', 'v7', 'a1', 'a2', 'a3', 'a4', 'a5', 'a6', 'a7'])\n",
    "# 7 columns for joint torques\n",
    "yVec = pd.read_csv(\"Sarcos_csv.csv\", usecols=np.arange(21, 28, 1), header=None, \n",
    "                  names = ['T1', 'T2', 'T3', 'T4', 'T5', 'T6', 'T7'])\n",
    "\n",
    "# to numpy array\n",
    "u = uVec.values[:, :, np.newaxis]\n",
    "y = yVec.values[:, :]#, np.newaxis]\n",
    "print(\"shape_y:\",y.shape)\n",
    "split = 0.5\n",
    "ind = round(split*u.shape[0])\n",
    "print(\"ind:\",ind)\n",
    "x_train = u[0:ind,0:nInputs]#,:]\n",
    "y_train = y[0:ind,0:]#,np.newaxis]#1:2] \n",
    "x_test = u[ind:,0:nInputs]#,:]\n",
    "y_test = y[ind:,0:]#,np.newaxis]\n",
    "\n",
    "#x_train = u[0:ind,0:nInputs,np.newaxis]\n",
    "#y_train = y[0:ind,nInputs:]#,np.newaxis]#1:2] \n",
    "#x_test = u[ind:,0:nInputs,np.newaxis]\n",
    "#y_test = y[ind:,nInputs:]#,np.newaxis]\n",
    "\n",
    "print(\"x_train size: {}\".format(x_train.shape))\n",
    "print(\"y_train size: {}\".format(y_train.shape))\n",
    "print(\"x_test size: {}\".format(x_test.shape))\n",
    "print(\"y_test size: {}\".format(y_test.shape))\n",
    "\n",
    "\n",
    "####### \n",
    "model = Sequential()\n",
    "\n",
    "model.add(Dense(nInputs,input_shape=(21,1))) #correct with nInputs?\n",
    "model.add(LSTM(hidden_layers,return_sequences=False))\n",
    "\n",
    "model.add(Dense(nOutputs))\n",
    "model.compile(loss='mse',optimizer ='adam',metrics=['accuracy'])\n",
    "\n",
    "\n"
   ]
  },
  {
   "cell_type": "code",
   "execution_count": null,
   "metadata": {},
   "outputs": [
    {
     "name": "stdout",
     "output_type": "stream",
     "text": [
      "Train on 21129 samples, validate on 1113 samples\n",
      "Epoch 1/3\n"
     ]
    }
   ],
   "source": [
    "model.fit(x_train,y_train,epochs=3,batch_size=5,validation_split=0.05,verbose=1);\n",
    "\n",
    "\n",
    "scores = model.evaluate(X,y,verbose=1,batch_size=5)\n",
    "print('Accurracy: {}'.format(scores[1])) \n",
    "\n",
    "predict=model.predict(X)\n",
    "plt.plot(y, predict-y, 'C2')\n",
    "plt.ylim(ymax = 3, ymin = -3)\n",
    "plt.show()"
   ]
  }
 ],
 "metadata": {
  "kernelspec": {
   "display_name": "Python 3",
   "language": "python",
   "name": "python3"
  },
  "language_info": {
   "codemirror_mode": {
    "name": "ipython",
    "version": 3
   },
   "file_extension": ".py",
   "mimetype": "text/x-python",
   "name": "python",
   "nbconvert_exporter": "python",
   "pygments_lexer": "ipython3",
   "version": "3.6.7"
  }
 },
 "nbformat": 4,
 "nbformat_minor": 1
}
